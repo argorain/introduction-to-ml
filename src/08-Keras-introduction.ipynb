{
 "cells": [
  {
   "cell_type": "markdown",
   "metadata": {},
   "source": [
    "# Introduction to Keras\n",
    "\n",
    "* high-level neural networks API, written in Python and capable of running on top of [TensorFlow](https://github.com/tensorflow/tensorflow), [CNTK](https://github.com/Microsoft/cntk), or [Theano](https://github.com/Theano/Theano)\n",
    "* Allows easy and fast prototyping\n",
    "* Runs seamlessly on CPU and GPU\n",
    "* open source\n",
    "* Documentation: [https://keras.io/](https://keras.io/)"
   ]
  },
  {
   "cell_type": "markdown",
   "metadata": {},
   "source": [
    "## installation\n",
    "First install the backend, for example [TensorFlow](https://www.tensorflow.org/install/).\n",
    "\n",
    "`$ pip install keras`"
   ]
  },
  {
   "cell_type": "markdown",
   "metadata": {},
   "source": [
    "## MNIST classification task\n",
    "\n",
    "The MNIST data set is a database of handwritten digits that is commonly used for training various image processing systems. The goal if this task is to implement a classifier of handwritten digits using neural networks."
   ]
  },
  {
   "cell_type": "markdown",
   "metadata": {},
   "source": [
    "![Mnist data set](images/mnist-examples.png)"
   ]
  },
  {
   "cell_type": "markdown",
   "metadata": {},
   "source": [
    "## Load the data\n",
    "\n",
    "The data is already shuffled and split to train and test parts."
   ]
  },
  {
   "cell_type": "code",
   "execution_count": 1,
   "metadata": {},
   "outputs": [
    {
     "name": "stdout",
     "output_type": "stream",
     "text": [
      "X_train original shape: (60000, 28, 28)\n",
      "y_train original shape: (60000,)\n",
      "X_test original shape: (10000, 28, 28)\n",
      "y_test original shape: (10000,)\n"
     ]
    }
   ],
   "source": [
    "import pickle\n",
    "\n",
    "f = open('../data/mnist.pkl', 'rb')\n",
    "(X_train, y_train), (X_test, y_test) = pickle.load(f)\n",
    "f.close()\n",
    "\n",
    "print(\"X_train original shape: {}\".format(X_train.shape))\n",
    "print(\"y_train original shape: {}\".format(y_train.shape))\n",
    "print(\"X_test original shape: {}\".format(X_test.shape))\n",
    "print(\"y_test original shape: {}\".format(y_test.shape))"
   ]
  },
  {
   "cell_type": "markdown",
   "metadata": {},
   "source": [
    "Look at one random example."
   ]
  },
  {
   "cell_type": "code",
   "execution_count": 2,
   "metadata": {},
   "outputs": [
    {
     "data": {
      "image/png": "[encoded data removed]",
      "text/plain": [
       "<Figure size 432x288 with 1 Axes>"
      ]
     },
     "metadata": {},
     "output_type": "display_data"
    }
   ],
   "source": [
    "%matplotlib inline\n",
    "import matplotlib.pyplot as plt\n",
    "i=3495\n",
    "\n",
    "#print(X_train[i])\n",
    "plt.imshow(X_train[i], cmap='gray')\n",
    "plt.title(\"Class {}\".format(y_train[i]))\n",
    "plt.show()"
   ]
  },
  {
   "cell_type": "markdown",
   "metadata": {},
   "source": [
    "## Transform the data"
   ]
  },
  {
   "cell_type": "markdown",
   "metadata": {},
   "source": [
    "We need to scale the input values to have the range (0,1)."
   ]
  },
  {
   "cell_type": "code",
   "execution_count": 3,
   "metadata": {},
   "outputs": [],
   "source": [
    "X_train = X_train.astype('float32')\n",
    "X_test = X_test.astype('float32')\n",
    "X_train /= 255\n",
    "X_test /= 255"
   ]
  },
  {
   "cell_type": "markdown",
   "metadata": {},
   "source": [
    "Our neural-network is going to take a single vector for each training example, so we need to reshape the input so that each 28x28 image becomes a single 784 dimensional vector."
   ]
  },
  {
   "cell_type": "code",
   "execution_count": 4,
   "metadata": {},
   "outputs": [
    {
     "name": "stdout",
     "output_type": "stream",
     "text": [
      "X_train matrix shape: (60000, 784)\n",
      "X_test matrix shape: (10000, 784)\n"
     ]
    }
   ],
   "source": [
    "X_train_flat = X_train.reshape(60000, 784)\n",
    "X_test_flat = X_test.reshape(10000, 784)\n",
    "print(\"X_train matrix shape: {}\".format(X_train_flat.shape))\n",
    "print(\"X_test matrix shape: {}\".format(X_test_flat.shape))"
   ]
  },
  {
   "cell_type": "markdown",
   "metadata": {},
   "source": [
    "Transform the targets into one-hot encoding, i.e.\n",
    "```\n",
    "0 -> [1, 0, 0, 0, 0, 0, 0, 0, 0]\n",
    "1 -> [0, 1, 0, 0, 0, 0, 0, 0, 0]\n",
    "2 -> [0, 0, 1, 0, 0, 0, 0, 0, 0]\n",
    "```\n",
    "etc."
   ]
  },
  {
   "cell_type": "code",
   "execution_count": 5,
   "metadata": {},
   "outputs": [
    {
     "name": "stderr",
     "output_type": "stream",
     "text": [
      "Using TensorFlow backend.\n"
     ]
    },
    {
     "name": "stdout",
     "output_type": "stream",
     "text": [
      "3\n",
      "[0. 0. 0. 1. 0. 0. 0. 0. 0. 0.]\n"
     ]
    }
   ],
   "source": [
    "from keras.utils import np_utils\n",
    "\n",
    "n_classes = 10\n",
    "\n",
    "print(y_train[49])\n",
    "\n",
    "y_train = np_utils.to_categorical(y_train, n_classes)\n",
    "y_test = np_utils.to_categorical(y_test, n_classes)\n",
    "\n",
    "print(y_train[49])"
   ]
  },
  {
   "cell_type": "markdown",
   "metadata": {},
   "source": [
    "## Architecture of one-layer classifier for MNIST\n",
    "\n",
    "![Mnist data set](images/one-layer-nn.png)"
   ]
  },
  {
   "cell_type": "markdown",
   "metadata": {},
   "source": [
    "## Architecture definition\n",
    "\n",
    "Create a sequential model"
   ]
  },
  {
   "cell_type": "code",
   "execution_count": 6,
   "metadata": {},
   "outputs": [],
   "source": [
    "from keras.models import Sequential\n",
    "\n",
    "model = Sequential()"
   ]
  },
  {
   "cell_type": "markdown",
   "metadata": {},
   "source": [
    "Define its structure."
   ]
  },
  {
   "cell_type": "code",
   "execution_count": 7,
   "metadata": {},
   "outputs": [],
   "source": [
    "from keras.layers import Dense, Activation\n",
    "\n",
    "model.add(Dense(64, input_shape=(784, )))\n",
    "model.add(Activation('relu'))\n",
    "model.add(Dense(10))\n",
    "model.add(Activation('softmax'))"
   ]
  },
  {
   "cell_type": "markdown",
   "metadata": {},
   "source": [
    "Compile the model"
   ]
  },
  {
   "cell_type": "code",
   "execution_count": 8,
   "metadata": {},
   "outputs": [],
   "source": [
    "model.compile(loss='categorical_crossentropy',\n",
    "              optimizer='adam',\n",
    "              metrics=['accuracy'])"
   ]
  },
  {
   "cell_type": "markdown",
   "metadata": {},
   "source": [
    "## Train the model"
   ]
  },
  {
   "cell_type": "code",
   "execution_count": 9,
   "metadata": {},
   "outputs": [
    {
     "name": "stdout",
     "output_type": "stream",
     "text": [
      "Train on 60000 samples, validate on 10000 samples\n",
      "Epoch 1/5\n",
      "60000/60000 [==============================] - 2s 32us/step - loss: 0.4226 - acc: 0.8849 - val_loss: 0.2392 - val_acc: 0.9294\n",
      "Epoch 2/5\n",
      "60000/60000 [==============================] - 1s 24us/step - loss: 0.2096 - acc: 0.9401 - val_loss: 0.1775 - val_acc: 0.9464\n",
      "Epoch 3/5\n",
      "60000/60000 [==============================] - 1s 20us/step - loss: 0.1572 - acc: 0.9552 - val_loss: 0.1443 - val_acc: 0.9559\n",
      "Epoch 4/5\n",
      "60000/60000 [==============================] - 2s 37us/step - loss: 0.1253 - acc: 0.9641 - val_loss: 0.1264 - val_acc: 0.9619\n",
      "Epoch 5/5\n",
      "60000/60000 [==============================] - 1s 20us/step - loss: 0.1051 - acc: 0.9699 - val_loss: 0.1128 - val_acc: 0.9654\n"
     ]
    },
    {
     "data": {
      "text/plain": [
       "<keras.callbacks.History at 0x7f689ccec518>"
      ]
     },
     "execution_count": 9,
     "metadata": {},
     "output_type": "execute_result"
    }
   ],
   "source": [
    "model.fit(X_train_flat, y_train,\n",
    "          batch_size = 128, epochs = 5, verbose=1,\n",
    "          validation_data=(X_test_flat, y_test))"
   ]
  },
  {
   "cell_type": "markdown",
   "metadata": {},
   "source": [
    "## Evaluate the model\n",
    "\n",
    "First we need to convert probability vectors to class indices."
   ]
  },
  {
   "cell_type": "code",
   "execution_count": 10,
   "metadata": {},
   "outputs": [
    {
     "name": "stdout",
     "output_type": "stream",
     "text": [
      "(10000, 10)\n"
     ]
    }
   ],
   "source": [
    "y_pred = model.predict(X_test_flat)\n",
    "\n",
    "print(y_pred.shape)"
   ]
  },
  {
   "cell_type": "code",
   "execution_count": 11,
   "metadata": {},
   "outputs": [
    {
     "name": "stdout",
     "output_type": "stream",
     "text": [
      "(10000,)\n"
     ]
    }
   ],
   "source": [
    "import numpy as np\n",
    "\n",
    "y_test_class = np.argmax(y_test, axis=1)\n",
    "y_pred_class = np.argmax(y_pred, axis=1)\n",
    "print(y_pred_class.shape)"
   ]
  },
  {
   "cell_type": "markdown",
   "metadata": {},
   "source": [
    "We can use the scikit-learn functions now."
   ]
  },
  {
   "cell_type": "code",
   "execution_count": 12,
   "metadata": {},
   "outputs": [
    {
     "name": "stdout",
     "output_type": "stream",
     "text": [
      "Test accuracy: 0.9654\n",
      "\n",
      "             precision    recall  f1-score   support\n",
      "\n",
      "          0     0.9766    0.9816    0.9791       980\n",
      "          1     0.9799    0.9877    0.9838      1135\n",
      "          2     0.9726    0.9641    0.9684      1032\n",
      "          3     0.9567    0.9624    0.9595      1010\n",
      "          4     0.9625    0.9664    0.9644       982\n",
      "          5     0.9683    0.9574    0.9628       892\n",
      "          6     0.9457    0.9812    0.9631       958\n",
      "          7     0.9697    0.9660    0.9678      1028\n",
      "          8     0.9681    0.9343    0.9509       974\n",
      "          9     0.9523    0.9495    0.9509      1009\n",
      "\n",
      "avg / total     0.9655    0.9654    0.9654     10000\n",
      "\n"
     ]
    }
   ],
   "source": [
    "from sklearn import metrics\n",
    "from sklearn.metrics import accuracy_score\n",
    "\n",
    "\n",
    "print (\"Test accuracy: {:.4f}\".format(accuracy_score(y_test_class, y_pred_class)))\n",
    "print ()\n",
    "print(metrics.classification_report(y_test_class, y_pred_class, digits=4))"
   ]
  },
  {
   "cell_type": "code",
   "execution_count": 13,
   "metadata": {},
   "outputs": [
    {
     "name": "stdout",
     "output_type": "stream",
     "text": [
      "[[ 962    0    1    1    0    4    9    1    1    1]\n",
      " [   0 1121    4    0    0    1    5    1    3    0]\n",
      " [   5    3  995    5    3    1    4    7    7    2]\n",
      " [   0    1    6  972    0    7    1   10    9    4]\n",
      " [   1    0    3    0  949    0   13    1    2   13]\n",
      " [   5    1    0   11    2  854   10    1    5    3]\n",
      " [   5    3    1    0    4    4  940    0    1    0]\n",
      " [   0    7    8    2    0    1    0  993    1   16]\n",
      " [   4    2    4   14    7    9   11    4  910    9]\n",
      " [   3    6    1   11   21    1    1    6    1  958]]\n"
     ]
    }
   ],
   "source": [
    "from sklearn.metrics import confusion_matrix\n",
    "\n",
    "print(confusion_matrix(y_test_class, y_pred_class))"
   ]
  },
  {
   "cell_type": "code",
   "execution_count": 14,
   "metadata": {},
   "outputs": [
    {
     "name": "stdout",
     "output_type": "stream",
     "text": [
      "Train accuracy: 0.9740\n",
      "\n",
      "             precision    recall  f1-score   support\n",
      "\n",
      "          0     0.9875    0.9868    0.9872      5923\n",
      "          1     0.9731    0.9920    0.9824      6742\n",
      "          2     0.9822    0.9730    0.9776      5958\n",
      "          3     0.9758    0.9605    0.9681      6131\n",
      "          4     0.9722    0.9750    0.9736      5842\n",
      "          5     0.9759    0.9646    0.9702      5421\n",
      "          6     0.9636    0.9941    0.9786      5918\n",
      "          7     0.9832    0.9730    0.9781      6265\n",
      "          8     0.9720    0.9501    0.9609      5851\n",
      "          9     0.9549    0.9679    0.9613      5949\n",
      "\n",
      "avg / total     0.9741    0.9740    0.9740     60000\n",
      "\n"
     ]
    }
   ],
   "source": [
    "y_pred = model.predict(X_train_flat)\n",
    "y_pred_class = np.argmax(y_pred, axis=1)\n",
    "y_train_class = np.argmax(y_train, axis=1)\n",
    "\n",
    "print (\"Train accuracy: {:.4f}\".format(accuracy_score(y_train_class, y_pred_class)))\n",
    "print ()\n",
    "print(metrics.classification_report(y_train_class, y_pred_class, digits=4))"
   ]
  },
  {
   "cell_type": "markdown",
   "metadata": {},
   "source": [
    "# Convolutional neural network for MNIST classification"
   ]
  },
  {
   "cell_type": "markdown",
   "metadata": {},
   "source": [
    "## Reshape the input data"
   ]
  },
  {
   "cell_type": "code",
   "execution_count": 15,
   "metadata": {},
   "outputs": [],
   "source": [
    "X_train3d = X_train.reshape(60000, 28, 28, 1)\n",
    "X_test3d = X_test.reshape(10000, 28, 28, 1)"
   ]
  },
  {
   "cell_type": "markdown",
   "metadata": {},
   "source": [
    "## Architecture definition\n",
    "\n",
    "Create a sequential model and define its structure."
   ]
  },
  {
   "cell_type": "code",
   "execution_count": 16,
   "metadata": {},
   "outputs": [],
   "source": [
    "from keras.models import Sequential\n",
    "from keras.layers.core import Dense, Dropout, Activation, Flatten\n",
    "from keras.layers.convolutional import Conv2D, MaxPooling2D\n",
    "\n",
    "model = Sequential()\n",
    "\n",
    "model.add(Conv2D(16, kernel_size=(5, 5), input_shape=(28, 28, 1)))\n",
    "model.add(Activation('relu'))\n",
    "model.add(MaxPooling2D(pool_size=(2, 2)))\n",
    "model.add(Dense(32))\n",
    "model.add(Flatten())\n",
    "model.add(Activation('relu'))\n",
    "model.add(Dropout(0.5))\n",
    "model.add(Dense(10))\n",
    "model.add(Activation('softmax'))"
   ]
  },
  {
   "cell_type": "markdown",
   "metadata": {},
   "source": [
    "Compile the model."
   ]
  },
  {
   "cell_type": "code",
   "execution_count": 17,
   "metadata": {},
   "outputs": [],
   "source": [
    "model.compile(loss='categorical_crossentropy',\n",
    "              optimizer='adam',\n",
    "              metrics=['accuracy'])"
   ]
  },
  {
   "cell_type": "markdown",
   "metadata": {},
   "source": [
    "## Train the model"
   ]
  },
  {
   "cell_type": "code",
   "execution_count": 18,
   "metadata": {},
   "outputs": [
    {
     "name": "stdout",
     "output_type": "stream",
     "text": [
      "Train on 60000 samples, validate on 10000 samples\n",
      "Epoch 1/5\n",
      "60000/60000 [==============================] - 24s 402us/step - loss: 0.3387 - acc: 0.9030 - val_loss: 0.1065 - val_acc: 0.9684\n",
      "Epoch 2/5\n",
      "60000/60000 [==============================] - 39s 650us/step - loss: 0.1124 - acc: 0.9658 - val_loss: 0.0675 - val_acc: 0.9788\n",
      "Epoch 3/5\n",
      "60000/60000 [==============================] - 25s 413us/step - loss: 0.0867 - acc: 0.9736 - val_loss: 0.0561 - val_acc: 0.9822\n",
      "Epoch 4/5\n",
      "60000/60000 [==============================] - 24s 406us/step - loss: 0.0733 - acc: 0.9779 - val_loss: 0.0487 - val_acc: 0.9840\n",
      "Epoch 5/5\n",
      "60000/60000 [==============================] - 22s 372us/step - loss: 0.0633 - acc: 0.9802 - val_loss: 0.0478 - val_acc: 0.9842\n"
     ]
    },
    {
     "data": {
      "text/plain": [
       "<keras.callbacks.History at 0x7f689811d908>"
      ]
     },
     "execution_count": 18,
     "metadata": {},
     "output_type": "execute_result"
    }
   ],
   "source": [
    "model.fit(X_train3d, y_train,\n",
    "          batch_size = 128, epochs = 5, verbose=1,\n",
    "          validation_data=(X_test3d, y_test))"
   ]
  },
  {
   "cell_type": "markdown",
   "metadata": {},
   "source": [
    "## Evaluate the model"
   ]
  },
  {
   "cell_type": "code",
   "execution_count": 19,
   "metadata": {},
   "outputs": [],
   "source": [
    "y_pred = model.predict(X_test3d)\n",
    "y_test_class = np.argmax(y_test, axis=1)\n",
    "y_pred_class = np.argmax(y_pred, axis=1)"
   ]
  },
  {
   "cell_type": "code",
   "execution_count": 20,
   "metadata": {},
   "outputs": [
    {
     "name": "stdout",
     "output_type": "stream",
     "text": [
      "Test accuracy: 0.9842\n",
      "\n",
      "             precision    recall  f1-score   support\n",
      "\n",
      "          0     0.9702    0.9969    0.9834       980\n",
      "          1     0.9852    0.9956    0.9904      1135\n",
      "          2     0.9798    0.9893    0.9846      1032\n",
      "          3     0.9891    0.9891    0.9891      1010\n",
      "          4     0.9819    0.9939    0.9879       982\n",
      "          5     0.9866    0.9888    0.9877       892\n",
      "          6     0.9989    0.9802    0.9895       958\n",
      "          7     0.9758    0.9815    0.9787      1028\n",
      "          8     0.9854    0.9692    0.9772       974\n",
      "          9     0.9908    0.9564    0.9733      1009\n",
      "\n",
      "avg / total     0.9843    0.9842    0.9842     10000\n",
      "\n"
     ]
    }
   ],
   "source": [
    "print (\"Test accuracy: {:.4f}\".format(accuracy_score(y_test_class, y_pred_class)))\n",
    "print ()\n",
    "print(metrics.classification_report(y_test_class, y_pred_class, digits=4))"
   ]
  },
  {
   "cell_type": "code",
   "execution_count": 21,
   "metadata": {},
   "outputs": [
    {
     "name": "stdout",
     "output_type": "stream",
     "text": [
      "[[ 977    0    0    0    0    1    0    1    1    0]\n",
      " [   0 1130    3    0    1    0    0    0    1    0]\n",
      " [   2    2 1021    2    1    0    0    3    1    0]\n",
      " [   0    0    2  999    0    3    0    4    2    0]\n",
      " [   1    1    1    0  976    0    0    0    1    2]\n",
      " [   2    0    0    4    0  882    1    0    3    0]\n",
      " [  10    3    0    0    2    3  939    0    1    0]\n",
      " [   1    4    9    2    0    1    0 1009    1    1]\n",
      " [   7    1    5    3    3    1    0    4  944    6]\n",
      " [   7    6    1    0   11    3    0   13    3  965]]\n"
     ]
    }
   ],
   "source": [
    "print(confusion_matrix(y_test_class, y_pred_class))"
   ]
  },
  {
   "cell_type": "code",
   "execution_count": 22,
   "metadata": {},
   "outputs": [
    {
     "name": "stdout",
     "output_type": "stream",
     "text": [
      "Train accuracy: 0.9876\n",
      "\n",
      "             precision    recall  f1-score   support\n",
      "\n",
      "          0     0.9870    0.9975    0.9922      5923\n",
      "          1     0.9878    0.9945    0.9911      6742\n",
      "          2     0.9848    0.9894    0.9871      5958\n",
      "          3     0.9929    0.9853    0.9891      6131\n",
      "          4     0.9847    0.9914    0.9881      5842\n",
      "          5     0.9907    0.9854    0.9881      5421\n",
      "          6     0.9941    0.9916    0.9928      5918\n",
      "          7     0.9779    0.9899    0.9839      6265\n",
      "          8     0.9882    0.9774    0.9828      5851\n",
      "          9     0.9889    0.9724    0.9806      5949\n",
      "\n",
      "avg / total     0.9876    0.9876    0.9876     60000\n",
      "\n"
     ]
    }
   ],
   "source": [
    "y_pred = model.predict(X_train3d)\n",
    "y_pred_class = np.argmax(y_pred, axis=1)\n",
    "y_train_class = np.argmax(y_train, axis=1)\n",
    "\n",
    "print (\"Train accuracy: {:.4f}\".format(accuracy_score(y_train_class, y_pred_class)))\n",
    "print ()\n",
    "print(metrics.classification_report(y_train_class, y_pred_class, digits=4))"
   ]
  },
  {
   "cell_type": "markdown",
   "metadata": {},
   "source": [
    "## Let's look at some incorrectly classified examples"
   ]
  },
  {
   "cell_type": "code",
   "execution_count": 23,
   "metadata": {},
   "outputs": [
    {
     "name": "stdout",
     "output_type": "stream",
     "text": [
      "[ 259  290  320  321  359  445  582  591  619  659  684  717  720  726\n",
      "  844  947  965 1014 1033 1039 1068 1181 1182 1226 1232 1247 1260 1319\n",
      " 1393 1414 1429 1500 1530 1554 1581 1681 1709 1717 1878 1901 2035 2043\n",
      " 2093 2098 2109 2118 2129 2130 2135 2182 2189 2266 2272 2280 2293 2380\n",
      " 2387 2406 2414 2425 2462 2488 2597 2654 2720 2742 2760 2780 2896 2921\n",
      " 2927 2939 2953 2979 2995 3005 3030 3060 3073 3206 3289 3330 3422 3503\n",
      " 3520 3558 3559 3597 3749 3751 3757 3767 3806 3808 3853 3869 3906 3985\n",
      " 4075 4078 4163 4176 4207 4224 4238 4248 4256 4265 4400 4405 4500 4571\n",
      " 4575 4639 4740 4761 4807 4814 4823 4860 4874 4956 4978 5288 5887 5888\n",
      " 5937 5955 5973 5997 6173 6505 6555 6571 6576 6597 6625 6651 6740 6847\n",
      " 7121 7432 8094 8332 8408 9009 9015 9019 9024 9530 9638 9642 9664 9692\n",
      " 9698 9729 9770 9905]\n"
     ]
    }
   ],
   "source": [
    "y_pred = model.predict(X_test3d)\n",
    "y_test_class = np.argmax(y_test, axis=1)\n",
    "y_pred_class = np.argmax(y_pred, axis=1)\n",
    "\n",
    "incorrect_indices = np.nonzero(y_pred_class != y_test_class)[0]\n",
    "print(incorrect_indices)"
   ]
  },
  {
   "cell_type": "code",
   "execution_count": 24,
   "metadata": {},
   "outputs": [
    {
     "data": {
      "image/png": "[encoded data removed]",
      "text/plain": [
       "<Figure size 432x288 with 1 Axes>"
      ]
     },
     "metadata": {},
     "output_type": "display_data"
    }
   ],
   "source": [
    "%matplotlib inline\n",
    "import matplotlib.pyplot as plt\n",
    "i = incorrect_indices[20]\n",
    "\n",
    "plt.imshow(X_test[i], cmap='gray')\n",
    "plt.title(\"Predicted: {}, Class: {}\".format(y_pred_class[i], y_test_class[i]))\n",
    "plt.show()"
   ]
  }
 ],
 "metadata": {
  "kernelspec": {
   "display_name": "Python 3",
   "language": "python",
   "name": "python3"
  },
  "language_info": {
   "codemirror_mode": {
    "name": "ipython",
    "version": 3
   },
   "file_extension": ".py",
   "mimetype": "text/x-python",
   "name": "python",
   "nbconvert_exporter": "python",
   "pygments_lexer": "ipython3",
   "version": "3.5.2"
  }
 },
 "nbformat": 4,
 "nbformat_minor": 2
}
